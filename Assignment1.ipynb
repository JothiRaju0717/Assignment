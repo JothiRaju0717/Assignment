{
 "cells": [
  {
   "cell_type": "code",
   "execution_count": null,
   "id": "16068cf8-07b1-4292-85fa-8d709ec5da6e",
   "metadata": {},
   "outputs": [],
   "source": [
    "#1. In the below elements which of them are values or an expression? eg:- values can beinteger or string and expressions will be mathematical operators.\n",
    "\"\"\"\n",
    "*\n",
    "'hello'\n",
    "-87.8\n",
    "-\n",
    "/\n",
    "+\n",
    "6\n",
    "\"\"\"\n",
    "# Values are 'hello', 6,-87.8 \n",
    "#Expressions are -,/,+,*,"
   ]
  },
  {
   "cell_type": "code",
   "execution_count": 2,
   "id": "f8887289-19b6-40ed-b331-d1caa75f5311",
   "metadata": {},
   "outputs": [],
   "source": [
    "#2. What is the difference between string and variable?\n",
    "\n",
    "#variables\n",
    "#variables are used to store values\n",
    "#variables are the name of the entity or person or the name we provide for some object\n",
    "#variables are case sensitive\n",
    "#variables can be combination of a-z, A-Z,0-9, _\n",
    "#variables should not start with numeric values\n",
    "#variables should not use any special characters\n",
    "\n",
    "#String\n",
    "#string is a character\n",
    "#string is a value that can be stored in variable"
   ]
  },
  {
   "cell_type": "code",
   "execution_count": 5,
   "id": "882ac8e3-8229-4703-8b83-71819da8eff1",
   "metadata": {},
   "outputs": [
    {
     "name": "stdout",
     "output_type": "stream",
     "text": [
      "['pen', 'pencil', 'Note']\n",
      "(4, 5, 6, 7, 8, 'class')\n",
      "{'object': 'Pen', 'Color': 'Blue', 'Model': 'Ink'}\n"
     ]
    }
   ],
   "source": [
    "#3. Describe three different data types.\n",
    "#List\n",
    "#It should be declared within square brackets\n",
    "#List are mutable\n",
    "#List are heterogenous in nature\n",
    "a=[\"pen\",\"pencil\",\"Note\"]\n",
    "print(a)\n",
    "#Tuples\n",
    "#It should be declared within () brackets\n",
    "#Tuples are immutable\n",
    "#It is heterogenous in nature\n",
    "a=(4,5,6,7,8,\"class\")\n",
    "print(a)\n",
    "#Dictionaries\n",
    "#It should be declared within curly {} brackets\n",
    "#Dictionaries are mutable whereas keyvalues are immutable\n",
    "#Dictionaries are heterogenous\n",
    "dict={\"object\":\"Pen\", \"Color\":\"Blue\", \"Model\":\"Ink\"}\n",
    "print(dict)"
   ]
  },
  {
   "cell_type": "code",
   "execution_count": 6,
   "id": "250baf01-fa49-4f66-9415-feae39fcfee8",
   "metadata": {},
   "outputs": [
    {
     "name": "stdout",
     "output_type": "stream",
     "text": [
      "22\n"
     ]
    }
   ],
   "source": [
    "#4 .What is an expression made up of? What do all expressions do?\n",
    "#Expression is made up of following:\n",
    "#Expression is the combination of variable, operator and numeric values\n",
    "X=10+12\n",
    "print(X)\n",
    "#Expression will produce some result and store it in a variable"
   ]
  },
  {
   "cell_type": "code",
   "execution_count": 8,
   "id": "9006601a-f4f4-4746-8cbb-a1ac3f72d831",
   "metadata": {},
   "outputs": [
    {
     "name": "stdout",
     "output_type": "stream",
     "text": [
      "11\n"
     ]
    }
   ],
   "source": [
    "#5. This assignment statements, like spam = 10. What is the difference between an expression and a statement?\n",
    "#Statements\n",
    "#Variables stored with some values are called as statement\n",
    "spam=10\n",
    "#Expression will produce some result and store it in a variable\n",
    "result=spam+1\n",
    "print(result)"
   ]
  },
  {
   "cell_type": "code",
   "execution_count": 10,
   "id": "762933d5-d905-4b99-8dfd-1cb7e8a302ba",
   "metadata": {},
   "outputs": [
    {
     "name": "stdout",
     "output_type": "stream",
     "text": [
      "22\n"
     ]
    }
   ],
   "source": [
    "#6. After running the following code, what does the variable bacon contain? bacon =22 bacon +1\n",
    "bacon = 22\n",
    "bacon + 1\n",
    "print(bacon)\n",
    "#The value of bacon will be 22"
   ]
  },
  {
   "cell_type": "code",
   "execution_count": 11,
   "id": "0734414f-a65c-43bb-a419-bb6c7b1acab3",
   "metadata": {},
   "outputs": [
    {
     "data": {
      "text/plain": [
       "'spamspamspam'"
      ]
     },
     "execution_count": 11,
     "metadata": {},
     "output_type": "execute_result"
    }
   ],
   "source": [
    "#7. What should the values of the following two terms be?\n",
    "'spam' + 'spamspam';\n",
    "'spam' * 3"
   ]
  },
  {
   "cell_type": "code",
   "execution_count": null,
   "id": "c29f95d8-1a0a-44c9-b8af-89dd4ba8fb83",
   "metadata": {},
   "outputs": [],
   "source": [
    "#8. Why is eggs a valid variable name while 100 is invalid?\n",
    "#Variable name cannot start with digit, hence 100 variable is invalid\n",
    "#Variable can start with small letters so eggs is valid variable"
   ]
  },
  {
   "cell_type": "code",
   "execution_count": null,
   "id": "d21024ed-611f-44d7-9551-56a475978cc5",
   "metadata": {},
   "outputs": [],
   "source": [
    "#9. What three functions can be used to get the integer, floating-point number, or string version of a value?\n",
    "#int()\n",
    "#float()\n",
    "#str()"
   ]
  },
  {
   "cell_type": "code",
   "execution_count": 14,
   "id": "3c12efcb-968a-44a9-a37f-4976526c9d83",
   "metadata": {},
   "outputs": [
    {
     "name": "stdout",
     "output_type": "stream",
     "text": [
      "I have eaten99burritos\n"
     ]
    }
   ],
   "source": [
    "#10. Why does this expression cause an error? How can you fix it? \"I have eaten\" + 99 + \"burritos\"\n",
    "#string can be added only with string\n",
    "#In order to add this expression need to consider integer as string, so \"99\"\n",
    "result=\"I have eaten\" + \"99\" + \"burritos\"\n",
    "print(result)"
   ]
  },
  {
   "cell_type": "code",
   "execution_count": null,
   "id": "c1c3b862-93fd-439c-b5b3-bb3de8f07e63",
   "metadata": {},
   "outputs": [],
   "source": []
  }
 ],
 "metadata": {
  "kernelspec": {
   "display_name": "Python 3 (ipykernel)",
   "language": "python",
   "name": "python3"
  },
  "language_info": {
   "codemirror_mode": {
    "name": "ipython",
    "version": 3
   },
   "file_extension": ".py",
   "mimetype": "text/x-python",
   "name": "python",
   "nbconvert_exporter": "python",
   "pygments_lexer": "ipython3",
   "version": "3.10.6"
  }
 },
 "nbformat": 4,
 "nbformat_minor": 5
}
