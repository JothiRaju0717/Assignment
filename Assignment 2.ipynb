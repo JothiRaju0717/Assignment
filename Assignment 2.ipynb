{
 "cells": [
  {
   "cell_type": "code",
   "execution_count": null,
   "id": "9df5fc32-4fc3-4981-8afc-0aa0236d307d",
   "metadata": {},
   "outputs": [],
   "source": [
    "#1.What are the two values of the Boolean data type? How do you write them?\n",
    "#The two values of the Boolean data type are True and False\n",
    "#bool() is the boolean function"
   ]
  },
  {
   "cell_type": "code",
   "execution_count": null,
   "id": "3cd7453a-964b-4ca9-b4eb-3022aa476bdf",
   "metadata": {},
   "outputs": [],
   "source": [
    "#2. What are the three different types of Boolean operators?\n",
    "# The Three different types of Boolean operators are AND, OR , NOT"
   ]
  },
  {
   "cell_type": "code",
   "execution_count": null,
   "id": "e35989ec-1032-4173-a698-3c17aef39393",
   "metadata": {},
   "outputs": [],
   "source": [
    "#3. Make a list of each Boolean operator's truth tables (i.e. every possible combination of Boolean values for the operator and what it evaluate ).\n",
    "\"\"\"\n",
    "AND\n",
    "A  B  A AND B\n",
    "\n",
    "0  0   0\n",
    "0  1   0\n",
    "1  0   0\n",
    "1  1   1\n",
    "\n",
    "OR\n",
    "\n",
    "A  B  A OR B\n",
    "\n",
    "0  0   0\n",
    "0  1   1\n",
    "1  0   1\n",
    "1  1   1\n",
    "\n",
    "NOT\n",
    "\n",
    "A  NOT A\n",
    "0    1\n",
    "1    0\n",
    "\"\"\""
   ]
  },
  {
   "cell_type": "code",
   "execution_count": 2,
   "id": "47822721-30d1-4f41-ba79-9c3fbbed7099",
   "metadata": {},
   "outputs": [
    {
     "data": {
      "text/plain": [
       "False"
      ]
     },
     "execution_count": 2,
     "metadata": {},
     "output_type": "execute_result"
    }
   ],
   "source": [
    "#4. What are the values of the following expressions?\n",
    "(5 < 4) and (3 == 5) False\n"
   ]
  },
  {
   "cell_type": "code",
   "execution_count": 3,
   "id": "a5e46777-12e6-4b06-9484-f5d289a7efb7",
   "metadata": {},
   "outputs": [
    {
     "data": {
      "text/plain": [
       "True"
      ]
     },
     "execution_count": 3,
     "metadata": {},
     "output_type": "execute_result"
    }
   ],
   "source": [
    "#4. What are the values of the following expressions?\n",
    "not (5 < 4)\n",
    "#true"
   ]
  },
  {
   "cell_type": "code",
   "execution_count": 4,
   "id": "a8d3bcf1-0307-4a9e-9dcd-2eb391080ece",
   "metadata": {},
   "outputs": [
    {
     "data": {
      "text/plain": [
       "False"
      ]
     },
     "execution_count": 4,
     "metadata": {},
     "output_type": "execute_result"
    }
   ],
   "source": [
    "#4. What are the values of the following expressions?\n",
    "(5 < 4) or (3 == 5)\n",
    "#False"
   ]
  },
  {
   "cell_type": "code",
   "execution_count": 5,
   "id": "d4253c5f-4311-4581-bbd0-b8792c432c25",
   "metadata": {},
   "outputs": [
    {
     "data": {
      "text/plain": [
       "True"
      ]
     },
     "execution_count": 5,
     "metadata": {},
     "output_type": "execute_result"
    }
   ],
   "source": [
    "#4. What are the values of the following expressions?\n",
    "not ((5 < 4) or (3 == 5))\n",
    "#true"
   ]
  },
  {
   "cell_type": "code",
   "execution_count": 6,
   "id": "6451aa4e-3703-4d52-8f2a-061d27e2b6b9",
   "metadata": {},
   "outputs": [
    {
     "data": {
      "text/plain": [
       "False"
      ]
     },
     "execution_count": 6,
     "metadata": {},
     "output_type": "execute_result"
    }
   ],
   "source": [
    "#4. What are the values of the following expressions?\n",
    "(True and True) and (True == False)\n",
    "#false"
   ]
  },
  {
   "cell_type": "code",
   "execution_count": 8,
   "id": "d9caf8cd-1571-4ded-b3f9-7d7105abb3c0",
   "metadata": {},
   "outputs": [
    {
     "data": {
      "text/plain": [
       "True"
      ]
     },
     "execution_count": 8,
     "metadata": {},
     "output_type": "execute_result"
    }
   ],
   "source": [
    "#4. What are the values of the following expressions?\n",
    "(not False) or (not True)\n",
    "#true"
   ]
  },
  {
   "cell_type": "code",
   "execution_count": null,
   "id": "b12b63a9-1a80-4417-aa5d-aa50328e91be",
   "metadata": {},
   "outputs": [],
   "source": [
    "#5. What are the six comparison operators?\n",
    "#Equal to operator ==\n",
    "#Greater than <\n",
    "#Less than >\n",
    "#Greater than or equal to <=\n",
    "#Less than or equal to >=\n",
    "#Not equal to !="
   ]
  },
  {
   "cell_type": "code",
   "execution_count": 9,
   "id": "360a02a9-bae5-43f2-9a93-690a83a24979",
   "metadata": {},
   "outputs": [
    {
     "name": "stdout",
     "output_type": "stream",
     "text": [
      "a and b are equal\n"
     ]
    }
   ],
   "source": [
    "#6. How do you tell the difference between the equal to and assignment operators?Describe a condition and when you would use one.\n",
    "\"\"\" = is an assignment operator used to assign a value to the variable or expression whereas == is the equal to operator which is used to compare the\n",
    "right side value with the left side value\"\"\"\n",
    "#Example for Assignment operator\n",
    "a=10\n",
    "b=10\n",
    "if (a==b): #Example for equal to operator\n",
    "    print(\"a and b are equal\")\n",
    "else:\n",
    "    print(\"a and b are not equal\")\n"
   ]
  },
  {
   "cell_type": "code",
   "execution_count": null,
   "id": "ac95e3ef-d435-40c9-86fa-a7c2e522baf0",
   "metadata": {},
   "outputs": [],
   "source": [
    "#7. Identify the three blocks in this code:\n",
    "spam = 0\n",
    "#first block\n",
    "if spam == 10:\n",
    "print(\"eggs\")\n",
    "#Second block\n",
    "if spam > 5:\n",
    "print(\"bacon\")\n",
    "#Third block\n",
    "else:\n",
    "print(\"ham\")\n",
    "print(\"spam\")\n",
    "print(\"spam\")"
   ]
  },
  {
   "cell_type": "code",
   "execution_count": 23,
   "id": "65518ca8-1675-433e-9d6c-81834651b328",
   "metadata": {},
   "outputs": [
    {
     "name": "stdin",
     "output_type": "stream",
     "text": [
      "Enter the number 1 or 2 3\n"
     ]
    },
    {
     "name": "stdout",
     "output_type": "stream",
     "text": [
      "if anything else is stored in spam\n"
     ]
    }
   ],
   "source": [
    "#Write code that prints Hello if 1 is stored in spam, prints Howdy if 2 is stored in spam, and prints Greetings! if anything else is stored in spam.\n",
    "spam = int(input(\"Enter the number 1 or 2\"))\n",
    "if spam == 1:\n",
    "    print(\"Howdy\")\n",
    "elif spam == 2:\n",
    "    print(\"Greetings!\")\n",
    "else:\n",
    "    print(\"if anything else is stored in spam\")\n"
   ]
  },
  {
   "cell_type": "code",
   "execution_count": null,
   "id": "8111ab42-21bf-43b1-a7e8-099e49f13d94",
   "metadata": {},
   "outputs": [],
   "source": [
    "#9.If your programme is stuck in an endless loop, what keys you’ll press?\n",
    "# The keyword break is used to stop the program\n",
    "#if break keyword is not used in the program need to press CTRL+C to stop the infinite loop"
   ]
  },
  {
   "cell_type": "code",
   "execution_count": null,
   "id": "8d2c0ec6-3491-4710-9fff-8a0903a04f15",
   "metadata": {},
   "outputs": [],
   "source": [
    "#10. How can you tell the difference between break and continue?\n",
    "# break is used to exit the current loop or block\n",
    "#Continue is used to stop the current loop and continue with the next loop"
   ]
  },
  {
   "cell_type": "code",
   "execution_count": null,
   "id": "481bfc54-7d80-4e7a-a2ad-f2c07db7fa23",
   "metadata": {},
   "outputs": [],
   "source": [
    "#11. In a for loop, what is the difference between range(10), range(0, 10), and range(0, 10, 1)?\n",
    "# The range(10) function returns a sequence of numbers starting from 0 by default and increment by 1 and ends at 9\n",
    "#we are not providing the starting and increment value. By default it will starts from 0 and increment by 1\n",
    "\n",
    "#The range(0,10) function returns a sequence of numbers strating from 0 and increment by 1 and ends at 9\n",
    "#we are providing the starting point and stoping point and by default it will increment by 1.\n",
    "\n",
    "#The range(0,10,1) funtion returns a sequence of numbers starting from 0 and ends at 9 and increment by 1\n",
    "#we are providing the starting point that is from 0 and stop point that is at 10 and provided the increment value as 1."
   ]
  },
  {
   "cell_type": "code",
   "execution_count": 1,
   "id": "d3e1e754-f055-4c1d-9dc2-b0dfcdbfc09a",
   "metadata": {},
   "outputs": [
    {
     "name": "stdout",
     "output_type": "stream",
     "text": [
      "1\n",
      "2\n",
      "3\n",
      "4\n",
      "5\n",
      "6\n",
      "7\n",
      "8\n",
      "9\n",
      "10\n"
     ]
    }
   ],
   "source": [
    "#12. Write a short program that prints the numbers 1 to 10 using a for loop. Then write an equivalent program that prints the numbers 1 to 10 using a while loop.\n",
    "for x in range(1,11):\n",
    "    print (x)"
   ]
  },
  {
   "cell_type": "code",
   "execution_count": 4,
   "id": "2b932fd7-c975-48ed-8cbe-0e8a67f7e683",
   "metadata": {},
   "outputs": [
    {
     "name": "stdout",
     "output_type": "stream",
     "text": [
      "1\n",
      "2\n",
      "3\n",
      "4\n",
      "5\n",
      "6\n",
      "7\n",
      "8\n",
      "9\n",
      "10\n"
     ]
    }
   ],
   "source": [
    "#12. Write a short program that prints the numbers 1 to 10 using a for loop. Then write an equivalent program that prints the numbers 1 to 10 using a while loop.\n",
    "i=1\n",
    "while i<11:\n",
    "    print (i)\n",
    "    i += 1"
   ]
  },
  {
   "cell_type": "code",
   "execution_count": 13,
   "id": "cc4cd098-9528-40c4-af51-82ac08cce1d1",
   "metadata": {},
   "outputs": [],
   "source": [
    "#13. If you had a function named bacon() inside a module named spam, how would you call it after importing spam?\n",
    "#import spam\n",
    "#spam.bacon(5)"
   ]
  },
  {
   "cell_type": "code",
   "execution_count": null,
   "id": "4c21815c-a93c-405d-a74d-4e2dd591dc1a",
   "metadata": {},
   "outputs": [],
   "source": []
  },
  {
   "cell_type": "code",
   "execution_count": null,
   "id": "73582d68-95e5-4007-b8ea-e645be028f43",
   "metadata": {},
   "outputs": [],
   "source": []
  }
 ],
 "metadata": {
  "kernelspec": {
   "display_name": "Python 3 (ipykernel)",
   "language": "python",
   "name": "python3"
  },
  "language_info": {
   "codemirror_mode": {
    "name": "ipython",
    "version": 3
   },
   "file_extension": ".py",
   "mimetype": "text/x-python",
   "name": "python",
   "nbconvert_exporter": "python",
   "pygments_lexer": "ipython3",
   "version": "3.10.6"
  }
 },
 "nbformat": 4,
 "nbformat_minor": 5
}
